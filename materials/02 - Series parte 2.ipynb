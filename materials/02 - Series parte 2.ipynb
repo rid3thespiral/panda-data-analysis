{
 "cells": [
  {
   "cell_type": "markdown",
   "metadata": {},
   "source": [
    "# Series : Attributi e Metodi\n",
    "- **Attributi**: mi danno \"informazioni\" riguardanti un oggetto creato in Pandas, non lo modificano (sono \"passivi\")\n",
    "- I **\"metodi\"**  invece \"modificano\" / fanno delle operazioni su di essi (\"attivi\")"
   ]
  },
  {
   "cell_type": "code",
   "execution_count": 48,
   "metadata": {},
   "outputs": [],
   "source": [
    "import pandas as pd"
   ]
  },
  {
   "cell_type": "code",
   "execution_count": 49,
   "metadata": {},
   "outputs": [],
   "source": [
    "lettere = ['a', 'e', 'i', 'o', 'u']\n",
    "numeri = [10,20,30,40,50]"
   ]
  },
  {
   "cell_type": "code",
   "execution_count": 50,
   "metadata": {},
   "outputs": [
    {
     "data": {
      "text/plain": [
       "0    a\n",
       "1    e\n",
       "2    i\n",
       "3    o\n",
       "4    u\n",
       "dtype: object"
      ]
     },
     "execution_count": 50,
     "metadata": {},
     "output_type": "execute_result"
    }
   ],
   "source": [
    "s1 = pd.Series(lettere)\n",
    "s1"
   ]
  },
  {
   "cell_type": "code",
   "execution_count": 51,
   "metadata": {},
   "outputs": [
    {
     "data": {
      "text/plain": [
       "0    10\n",
       "1    20\n",
       "2    30\n",
       "3    40\n",
       "4    50\n",
       "dtype: int64"
      ]
     },
     "execution_count": 51,
     "metadata": {},
     "output_type": "execute_result"
    }
   ],
   "source": [
    "s2 = pd.Series(numeri)\n",
    "s2"
   ]
  },
  {
   "cell_type": "markdown",
   "metadata": {},
   "source": [
    "## Attributi"
   ]
  },
  {
   "cell_type": "markdown",
   "metadata": {},
   "source": [
    "#### .dtype (restituisce il tipo di dato della series)"
   ]
  },
  {
   "cell_type": "code",
   "execution_count": 52,
   "metadata": {},
   "outputs": [
    {
     "data": {
      "text/plain": [
       "dtype('O')"
      ]
     },
     "execution_count": 52,
     "metadata": {},
     "output_type": "execute_result"
    }
   ],
   "source": [
    "# \"oggetto\" + \".\" + TAB per visualizzare lista di tutti i metodi e attributi\n",
    "s1.dtype"
   ]
  },
  {
   "cell_type": "code",
   "execution_count": 53,
   "metadata": {},
   "outputs": [
    {
     "data": {
      "text/plain": [
       "dtype('int64')"
      ]
     },
     "execution_count": 53,
     "metadata": {},
     "output_type": "execute_result"
    }
   ],
   "source": [
    "s2.dtype"
   ]
  },
  {
   "cell_type": "markdown",
   "metadata": {},
   "source": [
    "#### .values (resituisce la series come un array)"
   ]
  },
  {
   "cell_type": "code",
   "execution_count": 54,
   "metadata": {},
   "outputs": [
    {
     "data": {
      "text/plain": [
       "array(['a', 'e', 'i', 'o', 'u'], dtype=object)"
      ]
     },
     "execution_count": 54,
     "metadata": {},
     "output_type": "execute_result"
    }
   ],
   "source": [
    "s1.values"
   ]
  },
  {
   "cell_type": "code",
   "execution_count": 55,
   "metadata": {},
   "outputs": [
    {
     "data": {
      "text/plain": [
       "array([10, 20, 30, 40, 50], dtype=int64)"
      ]
     },
     "execution_count": 55,
     "metadata": {},
     "output_type": "execute_result"
    }
   ],
   "source": [
    "s2.values"
   ]
  },
  {
   "cell_type": "markdown",
   "metadata": {},
   "source": [
    "#### .index (resituisce informazioni riguardo l'indice)"
   ]
  },
  {
   "cell_type": "code",
   "execution_count": 56,
   "metadata": {},
   "outputs": [
    {
     "data": {
      "text/plain": [
       "RangeIndex(start=0, stop=5, step=1)"
      ]
     },
     "execution_count": 56,
     "metadata": {},
     "output_type": "execute_result"
    }
   ],
   "source": [
    "s1.index"
   ]
  },
  {
   "cell_type": "markdown",
   "metadata": {},
   "source": [
    " #### .hasnans (resituisce True se la serie ha NaN, altrimenti False)"
   ]
  },
  {
   "cell_type": "code",
   "execution_count": 57,
   "metadata": {},
   "outputs": [
    {
     "data": {
      "text/plain": [
       "False"
      ]
     },
     "execution_count": 57,
     "metadata": {},
     "output_type": "execute_result"
    }
   ],
   "source": [
    "s1.hasnans"
   ]
  },
  {
   "cell_type": "code",
   "execution_count": 58,
   "metadata": {},
   "outputs": [
    {
     "data": {
      "text/plain": [
       "nome       guido\n",
       "cognome    rossi\n",
       "paese        NaN\n",
       "dtype: object"
      ]
     },
     "execution_count": 58,
     "metadata": {},
     "output_type": "execute_result"
    }
   ],
   "source": [
    "dizionario = {'nome': 'guido', 'cognome' : 'rossi', 'nazione' : 'Italia'}\n",
    "s3 = pd.Series(data = dizionario, index = ['nome','cognome', 'paese'])\n",
    "s3"
   ]
  },
  {
   "cell_type": "code",
   "execution_count": 59,
   "metadata": {},
   "outputs": [
    {
     "data": {
      "text/plain": [
       "True"
      ]
     },
     "execution_count": 59,
     "metadata": {},
     "output_type": "execute_result"
    }
   ],
   "source": [
    "s3.hasnans"
   ]
  },
  {
   "cell_type": "markdown",
   "metadata": {},
   "source": [
    "#### .shape e .size "
   ]
  },
  {
   "cell_type": "code",
   "execution_count": 60,
   "metadata": {},
   "outputs": [
    {
     "data": {
      "text/plain": [
       "(5,)"
      ]
     },
     "execution_count": 60,
     "metadata": {},
     "output_type": "execute_result"
    }
   ],
   "source": [
    "s1.shape"
   ]
  },
  {
   "cell_type": "code",
   "execution_count": 61,
   "metadata": {},
   "outputs": [
    {
     "data": {
      "text/plain": [
       "5"
      ]
     },
     "execution_count": 61,
     "metadata": {},
     "output_type": "execute_result"
    }
   ],
   "source": [
    "s1.size"
   ]
  },
  {
   "cell_type": "markdown",
   "metadata": {},
   "source": [
    "Tutti gli attributi per le Series puoi trovarli qui: \n",
    "https://pandas.pydata.org/pandas-docs/stable/reference/api/pandas.Series.html"
   ]
  },
  {
   "cell_type": "markdown",
   "metadata": {},
   "source": [
    "## Metodi"
   ]
  },
  {
   "cell_type": "code",
   "execution_count": 62,
   "metadata": {},
   "outputs": [],
   "source": [
    "import pandas as pd"
   ]
  },
  {
   "cell_type": "code",
   "execution_count": 63,
   "metadata": {},
   "outputs": [
    {
     "data": {
      "text/plain": [
       "0    1.2\n",
       "1    3.5\n",
       "2    2.8\n",
       "3    2.5\n",
       "dtype: float64"
      ]
     },
     "execution_count": 63,
     "metadata": {},
     "output_type": "execute_result"
    }
   ],
   "source": [
    "s = pd.Series(data = [1.2, 3.5, 2.8, 2.5])\n",
    "s"
   ]
  },
  {
   "cell_type": "code",
   "execution_count": 64,
   "metadata": {},
   "outputs": [
    {
     "data": {
      "text/plain": [
       "3.5"
      ]
     },
     "execution_count": 64,
     "metadata": {},
     "output_type": "execute_result"
    }
   ],
   "source": [
    "s.max() # restituisce il valore massimo della series"
   ]
  },
  {
   "cell_type": "code",
   "execution_count": 65,
   "metadata": {},
   "outputs": [
    {
     "data": {
      "text/plain": [
       "1.2"
      ]
     },
     "execution_count": 65,
     "metadata": {},
     "output_type": "execute_result"
    }
   ],
   "source": [
    "s.min() # restituisce il valore minimo della series"
   ]
  },
  {
   "cell_type": "code",
   "execution_count": 66,
   "metadata": {},
   "outputs": [
    {
     "data": {
      "text/plain": [
       "10.0"
      ]
     },
     "execution_count": 66,
     "metadata": {},
     "output_type": "execute_result"
    }
   ],
   "source": [
    "s.sum() # restituisce la somma di tutti i valori di una series"
   ]
  },
  {
   "cell_type": "code",
   "execution_count": 67,
   "metadata": {},
   "outputs": [
    {
     "data": {
      "text/plain": [
       "2.5"
      ]
     },
     "execution_count": 67,
     "metadata": {},
     "output_type": "execute_result"
    }
   ],
   "source": [
    "s.mean() # restituisce il valore medio della series"
   ]
  },
  {
   "cell_type": "code",
   "execution_count": 68,
   "metadata": {},
   "outputs": [
    {
     "data": {
      "text/plain": [
       "1"
      ]
     },
     "execution_count": 68,
     "metadata": {},
     "output_type": "execute_result"
    }
   ],
   "source": [
    "s.idxmax() # # restituisce l'indice corrispondente al valore massimo della series"
   ]
  },
  {
   "cell_type": "code",
   "execution_count": 69,
   "metadata": {},
   "outputs": [
    {
     "data": {
      "text/plain": [
       "0"
      ]
     },
     "execution_count": 69,
     "metadata": {},
     "output_type": "execute_result"
    }
   ],
   "source": [
    "s.idxmin() # restituisce l'indice corrispondente al valore minimo della series"
   ]
  },
  {
   "cell_type": "code",
   "execution_count": 70,
   "metadata": {},
   "outputs": [
    {
     "data": {
      "text/plain": [
       "0    False\n",
       "1    False\n",
       "2    False\n",
       "3    False\n",
       "dtype: bool"
      ]
     },
     "execution_count": 70,
     "metadata": {},
     "output_type": "execute_result"
    }
   ],
   "source": [
    "s.isnull() # resituisce un boolano per ogni valore della serie (True se ci sono \"missing values\", altrinenti False)"
   ]
  },
  {
   "cell_type": "code",
   "execution_count": 71,
   "metadata": {},
   "outputs": [
    {
     "data": {
      "text/plain": [
       "0    1.2\n",
       "1    3.5\n",
       "2    2.8\n",
       "3    2.5\n",
       "dtype: float64"
      ]
     },
     "execution_count": 71,
     "metadata": {},
     "output_type": "execute_result"
    }
   ],
   "source": [
    "s.round(1) # approssima ogni valore della series al numero decimale indicato, di default nessun decimale dopo la virgola"
   ]
  },
  {
   "cell_type": "markdown",
   "metadata": {},
   "source": [
    "# read.csv() e to_csv()"
   ]
  },
  {
   "cell_type": "code",
   "execution_count": 72,
   "metadata": {},
   "outputs": [],
   "source": [
    "import pandas as pd"
   ]
  },
  {
   "cell_type": "code",
   "execution_count": 73,
   "metadata": {},
   "outputs": [
    {
     "data": {
      "text/plain": [
       "0                 L. Messi\n",
       "1        Cristiano Ronaldo\n",
       "2                Neymar Jr\n",
       "3                 J. Oblak\n",
       "4                E. Hazard\n",
       "               ...        \n",
       "18273           Shao Shuai\n",
       "18274         Xiao Mingjie\n",
       "18275            Zhang Wei\n",
       "18276         Wang Haijian\n",
       "18277           Pan Ximing\n",
       "Name: player, Length: 18278, dtype: object"
      ]
     },
     "execution_count": 73,
     "metadata": {},
     "output_type": "execute_result"
    }
   ],
   "source": [
    "fifa_nomi = pd.read_csv(\"fifa20.csv\", usecols = [\"player\"], squeeze = True)\n",
    "fifa_nomi"
   ]
  },
  {
   "cell_type": "code",
   "execution_count": 74,
   "metadata": {},
   "outputs": [
    {
     "data": {
      "text/plain": [
       "pandas.core.series.Series"
      ]
     },
     "execution_count": 74,
     "metadata": {},
     "output_type": "execute_result"
    }
   ],
   "source": [
    "type(fifa_nomi)"
   ]
  },
  {
   "cell_type": "code",
   "execution_count": 75,
   "metadata": {},
   "outputs": [],
   "source": [
    "# scrivere in csv"
   ]
  },
  {
   "cell_type": "code",
   "execution_count": 76,
   "metadata": {},
   "outputs": [],
   "source": [
    "fifa_nomi.to_csv(\"prova.csv\", index= False)"
   ]
  },
  {
   "cell_type": "code",
   "execution_count": 77,
   "metadata": {},
   "outputs": [
    {
     "data": {
      "text/plain": [
       "0                 L. Messi\n",
       "1        Cristiano Ronaldo\n",
       "2                Neymar Jr\n",
       "3                 J. Oblak\n",
       "4                E. Hazard\n",
       "               ...        \n",
       "18273           Shao Shuai\n",
       "18274         Xiao Mingjie\n",
       "18275            Zhang Wei\n",
       "18276         Wang Haijian\n",
       "18277           Pan Ximing\n",
       "Name: player, Length: 18278, dtype: object"
      ]
     },
     "execution_count": 77,
     "metadata": {},
     "output_type": "execute_result"
    }
   ],
   "source": [
    "pd.read_csv(\"prova.csv\", squeeze = True)"
   ]
  },
  {
   "cell_type": "markdown",
   "metadata": {},
   "source": [
    "# head() e tail()"
   ]
  },
  {
   "cell_type": "code",
   "execution_count": 78,
   "metadata": {},
   "outputs": [
    {
     "data": {
      "text/html": [
       "<div>\n",
       "<style scoped>\n",
       "    .dataframe tbody tr th:only-of-type {\n",
       "        vertical-align: middle;\n",
       "    }\n",
       "\n",
       "    .dataframe tbody tr th {\n",
       "        vertical-align: top;\n",
       "    }\n",
       "\n",
       "    .dataframe thead th {\n",
       "        text-align: right;\n",
       "    }\n",
       "</style>\n",
       "<table border=\"1\" class=\"dataframe\">\n",
       "  <thead>\n",
       "    <tr style=\"text-align: right;\">\n",
       "      <th></th>\n",
       "      <th>player</th>\n",
       "      <th>age</th>\n",
       "      <th>dob</th>\n",
       "      <th>height_cm</th>\n",
       "      <th>club</th>\n",
       "      <th>rating</th>\n",
       "    </tr>\n",
       "  </thead>\n",
       "  <tbody>\n",
       "    <tr>\n",
       "      <th>0</th>\n",
       "      <td>L. Messi</td>\n",
       "      <td>32</td>\n",
       "      <td>24/06/1987</td>\n",
       "      <td>170</td>\n",
       "      <td>FC Barcelona</td>\n",
       "      <td>94</td>\n",
       "    </tr>\n",
       "    <tr>\n",
       "      <th>1</th>\n",
       "      <td>Cristiano Ronaldo</td>\n",
       "      <td>34</td>\n",
       "      <td>05/02/1985</td>\n",
       "      <td>187</td>\n",
       "      <td>Juventus</td>\n",
       "      <td>93</td>\n",
       "    </tr>\n",
       "    <tr>\n",
       "      <th>2</th>\n",
       "      <td>Neymar Jr</td>\n",
       "      <td>27</td>\n",
       "      <td>05/02/1992</td>\n",
       "      <td>175</td>\n",
       "      <td>Paris Saint-Germain</td>\n",
       "      <td>92</td>\n",
       "    </tr>\n",
       "    <tr>\n",
       "      <th>3</th>\n",
       "      <td>J. Oblak</td>\n",
       "      <td>26</td>\n",
       "      <td>07/01/1993</td>\n",
       "      <td>188</td>\n",
       "      <td>Atlético Madrid</td>\n",
       "      <td>91</td>\n",
       "    </tr>\n",
       "    <tr>\n",
       "      <th>4</th>\n",
       "      <td>E. Hazard</td>\n",
       "      <td>28</td>\n",
       "      <td>07/01/1991</td>\n",
       "      <td>175</td>\n",
       "      <td>Real Madrid</td>\n",
       "      <td>91</td>\n",
       "    </tr>\n",
       "    <tr>\n",
       "      <th>...</th>\n",
       "      <td>...</td>\n",
       "      <td>...</td>\n",
       "      <td>...</td>\n",
       "      <td>...</td>\n",
       "      <td>...</td>\n",
       "      <td>...</td>\n",
       "    </tr>\n",
       "    <tr>\n",
       "      <th>18273</th>\n",
       "      <td>Shao Shuai</td>\n",
       "      <td>22</td>\n",
       "      <td>10/03/1997</td>\n",
       "      <td>186</td>\n",
       "      <td>Beijing Renhe FC</td>\n",
       "      <td>48</td>\n",
       "    </tr>\n",
       "    <tr>\n",
       "      <th>18274</th>\n",
       "      <td>Xiao Mingjie</td>\n",
       "      <td>22</td>\n",
       "      <td>01/01/1997</td>\n",
       "      <td>177</td>\n",
       "      <td>Shanghai SIPG FC</td>\n",
       "      <td>48</td>\n",
       "    </tr>\n",
       "    <tr>\n",
       "      <th>18275</th>\n",
       "      <td>Zhang Wei</td>\n",
       "      <td>19</td>\n",
       "      <td>16/05/2000</td>\n",
       "      <td>186</td>\n",
       "      <td>Hebei China Fortune FC</td>\n",
       "      <td>48</td>\n",
       "    </tr>\n",
       "    <tr>\n",
       "      <th>18276</th>\n",
       "      <td>Wang Haijian</td>\n",
       "      <td>18</td>\n",
       "      <td>02/08/2000</td>\n",
       "      <td>185</td>\n",
       "      <td>Shanghai Greenland Shenhua FC</td>\n",
       "      <td>48</td>\n",
       "    </tr>\n",
       "    <tr>\n",
       "      <th>18277</th>\n",
       "      <td>Pan Ximing</td>\n",
       "      <td>26</td>\n",
       "      <td>11/01/1993</td>\n",
       "      <td>182</td>\n",
       "      <td>Hebei China Fortune FC</td>\n",
       "      <td>48</td>\n",
       "    </tr>\n",
       "  </tbody>\n",
       "</table>\n",
       "<p>18278 rows × 6 columns</p>\n",
       "</div>"
      ],
      "text/plain": [
       "                  player  age         dob  height_cm  \\\n",
       "0               L. Messi   32  24/06/1987        170   \n",
       "1      Cristiano Ronaldo   34  05/02/1985        187   \n",
       "2              Neymar Jr   27  05/02/1992        175   \n",
       "3               J. Oblak   26  07/01/1993        188   \n",
       "4              E. Hazard   28  07/01/1991        175   \n",
       "...                  ...  ...         ...        ...   \n",
       "18273         Shao Shuai   22  10/03/1997        186   \n",
       "18274       Xiao Mingjie   22  01/01/1997        177   \n",
       "18275          Zhang Wei   19  16/05/2000        186   \n",
       "18276       Wang Haijian   18  02/08/2000        185   \n",
       "18277         Pan Ximing   26  11/01/1993        182   \n",
       "\n",
       "                                club  rating  \n",
       "0                       FC Barcelona      94  \n",
       "1                           Juventus      93  \n",
       "2                Paris Saint-Germain      92  \n",
       "3                    Atlético Madrid      91  \n",
       "4                        Real Madrid      91  \n",
       "...                              ...     ...  \n",
       "18273               Beijing Renhe FC      48  \n",
       "18274               Shanghai SIPG FC      48  \n",
       "18275         Hebei China Fortune FC      48  \n",
       "18276  Shanghai Greenland Shenhua FC      48  \n",
       "18277         Hebei China Fortune FC      48  \n",
       "\n",
       "[18278 rows x 6 columns]"
      ]
     },
     "execution_count": 78,
     "metadata": {},
     "output_type": "execute_result"
    }
   ],
   "source": [
    "import pandas as pd\n",
    "fifa = pd.read_csv(\"fifa20.csv\")\n",
    "fifa"
   ]
  },
  {
   "cell_type": "code",
   "execution_count": 79,
   "metadata": {},
   "outputs": [
    {
     "data": {
      "text/html": [
       "<div>\n",
       "<style scoped>\n",
       "    .dataframe tbody tr th:only-of-type {\n",
       "        vertical-align: middle;\n",
       "    }\n",
       "\n",
       "    .dataframe tbody tr th {\n",
       "        vertical-align: top;\n",
       "    }\n",
       "\n",
       "    .dataframe thead th {\n",
       "        text-align: right;\n",
       "    }\n",
       "</style>\n",
       "<table border=\"1\" class=\"dataframe\">\n",
       "  <thead>\n",
       "    <tr style=\"text-align: right;\">\n",
       "      <th></th>\n",
       "      <th>player</th>\n",
       "      <th>age</th>\n",
       "      <th>dob</th>\n",
       "      <th>height_cm</th>\n",
       "      <th>club</th>\n",
       "      <th>rating</th>\n",
       "    </tr>\n",
       "  </thead>\n",
       "  <tbody>\n",
       "    <tr>\n",
       "      <th>0</th>\n",
       "      <td>L. Messi</td>\n",
       "      <td>32</td>\n",
       "      <td>24/06/1987</td>\n",
       "      <td>170</td>\n",
       "      <td>FC Barcelona</td>\n",
       "      <td>94</td>\n",
       "    </tr>\n",
       "    <tr>\n",
       "      <th>1</th>\n",
       "      <td>Cristiano Ronaldo</td>\n",
       "      <td>34</td>\n",
       "      <td>05/02/1985</td>\n",
       "      <td>187</td>\n",
       "      <td>Juventus</td>\n",
       "      <td>93</td>\n",
       "    </tr>\n",
       "    <tr>\n",
       "      <th>2</th>\n",
       "      <td>Neymar Jr</td>\n",
       "      <td>27</td>\n",
       "      <td>05/02/1992</td>\n",
       "      <td>175</td>\n",
       "      <td>Paris Saint-Germain</td>\n",
       "      <td>92</td>\n",
       "    </tr>\n",
       "    <tr>\n",
       "      <th>3</th>\n",
       "      <td>J. Oblak</td>\n",
       "      <td>26</td>\n",
       "      <td>07/01/1993</td>\n",
       "      <td>188</td>\n",
       "      <td>Atlético Madrid</td>\n",
       "      <td>91</td>\n",
       "    </tr>\n",
       "    <tr>\n",
       "      <th>4</th>\n",
       "      <td>E. Hazard</td>\n",
       "      <td>28</td>\n",
       "      <td>07/01/1991</td>\n",
       "      <td>175</td>\n",
       "      <td>Real Madrid</td>\n",
       "      <td>91</td>\n",
       "    </tr>\n",
       "    <tr>\n",
       "      <th>5</th>\n",
       "      <td>K. De Bruyne</td>\n",
       "      <td>28</td>\n",
       "      <td>28/06/1991</td>\n",
       "      <td>181</td>\n",
       "      <td>Manchester City</td>\n",
       "      <td>91</td>\n",
       "    </tr>\n",
       "    <tr>\n",
       "      <th>6</th>\n",
       "      <td>M. ter Stegen</td>\n",
       "      <td>27</td>\n",
       "      <td>30/04/1992</td>\n",
       "      <td>187</td>\n",
       "      <td>FC Barcelona</td>\n",
       "      <td>90</td>\n",
       "    </tr>\n",
       "    <tr>\n",
       "      <th>7</th>\n",
       "      <td>V. van Dijk</td>\n",
       "      <td>27</td>\n",
       "      <td>08/07/1991</td>\n",
       "      <td>193</td>\n",
       "      <td>Liverpool</td>\n",
       "      <td>90</td>\n",
       "    </tr>\n",
       "    <tr>\n",
       "      <th>8</th>\n",
       "      <td>L. Modrić</td>\n",
       "      <td>33</td>\n",
       "      <td>09/09/1985</td>\n",
       "      <td>172</td>\n",
       "      <td>Real Madrid</td>\n",
       "      <td>90</td>\n",
       "    </tr>\n",
       "    <tr>\n",
       "      <th>9</th>\n",
       "      <td>M. Salah</td>\n",
       "      <td>27</td>\n",
       "      <td>15/06/1992</td>\n",
       "      <td>175</td>\n",
       "      <td>Liverpool</td>\n",
       "      <td>90</td>\n",
       "    </tr>\n",
       "  </tbody>\n",
       "</table>\n",
       "</div>"
      ],
      "text/plain": [
       "              player  age         dob  height_cm                 club  rating\n",
       "0           L. Messi   32  24/06/1987        170         FC Barcelona      94\n",
       "1  Cristiano Ronaldo   34  05/02/1985        187             Juventus      93\n",
       "2          Neymar Jr   27  05/02/1992        175  Paris Saint-Germain      92\n",
       "3           J. Oblak   26  07/01/1993        188      Atlético Madrid      91\n",
       "4          E. Hazard   28  07/01/1991        175          Real Madrid      91\n",
       "5       K. De Bruyne   28  28/06/1991        181      Manchester City      91\n",
       "6      M. ter Stegen   27  30/04/1992        187         FC Barcelona      90\n",
       "7        V. van Dijk   27  08/07/1991        193            Liverpool      90\n",
       "8          L. Modrić   33  09/09/1985        172          Real Madrid      90\n",
       "9           M. Salah   27  15/06/1992        175            Liverpool      90"
      ]
     },
     "execution_count": 79,
     "metadata": {},
     "output_type": "execute_result"
    }
   ],
   "source": [
    "fifa.head(10)"
   ]
  },
  {
   "cell_type": "code",
   "execution_count": 80,
   "metadata": {},
   "outputs": [
    {
     "data": {
      "text/html": [
       "<div>\n",
       "<style scoped>\n",
       "    .dataframe tbody tr th:only-of-type {\n",
       "        vertical-align: middle;\n",
       "    }\n",
       "\n",
       "    .dataframe tbody tr th {\n",
       "        vertical-align: top;\n",
       "    }\n",
       "\n",
       "    .dataframe thead th {\n",
       "        text-align: right;\n",
       "    }\n",
       "</style>\n",
       "<table border=\"1\" class=\"dataframe\">\n",
       "  <thead>\n",
       "    <tr style=\"text-align: right;\">\n",
       "      <th></th>\n",
       "      <th>player</th>\n",
       "      <th>age</th>\n",
       "      <th>dob</th>\n",
       "      <th>height_cm</th>\n",
       "      <th>club</th>\n",
       "      <th>rating</th>\n",
       "    </tr>\n",
       "  </thead>\n",
       "  <tbody>\n",
       "    <tr>\n",
       "      <th>18277</th>\n",
       "      <td>Pan Ximing</td>\n",
       "      <td>26</td>\n",
       "      <td>11/01/1993</td>\n",
       "      <td>182</td>\n",
       "      <td>Hebei China Fortune FC</td>\n",
       "      <td>48</td>\n",
       "    </tr>\n",
       "  </tbody>\n",
       "</table>\n",
       "</div>"
      ],
      "text/plain": [
       "           player  age         dob  height_cm                    club  rating\n",
       "18277  Pan Ximing   26  11/01/1993        182  Hebei China Fortune FC      48"
      ]
     },
     "execution_count": 80,
     "metadata": {},
     "output_type": "execute_result"
    }
   ],
   "source": [
    "fifa.tail(1)"
   ]
  },
  {
   "cell_type": "code",
   "execution_count": 81,
   "metadata": {},
   "outputs": [
    {
     "data": {
      "text/html": [
       "<div>\n",
       "<style scoped>\n",
       "    .dataframe tbody tr th:only-of-type {\n",
       "        vertical-align: middle;\n",
       "    }\n",
       "\n",
       "    .dataframe tbody tr th {\n",
       "        vertical-align: top;\n",
       "    }\n",
       "\n",
       "    .dataframe thead th {\n",
       "        text-align: right;\n",
       "    }\n",
       "</style>\n",
       "<table border=\"1\" class=\"dataframe\">\n",
       "  <thead>\n",
       "    <tr style=\"text-align: right;\">\n",
       "      <th></th>\n",
       "      <th>player</th>\n",
       "      <th>age</th>\n",
       "      <th>dob</th>\n",
       "      <th>height_cm</th>\n",
       "      <th>club</th>\n",
       "      <th>rating</th>\n",
       "    </tr>\n",
       "  </thead>\n",
       "  <tbody>\n",
       "    <tr>\n",
       "      <th>0</th>\n",
       "      <td>L. Messi</td>\n",
       "      <td>32</td>\n",
       "      <td>24/06/1987</td>\n",
       "      <td>170</td>\n",
       "      <td>FC Barcelona</td>\n",
       "      <td>94</td>\n",
       "    </tr>\n",
       "    <tr>\n",
       "      <th>1</th>\n",
       "      <td>Cristiano Ronaldo</td>\n",
       "      <td>34</td>\n",
       "      <td>05/02/1985</td>\n",
       "      <td>187</td>\n",
       "      <td>Juventus</td>\n",
       "      <td>93</td>\n",
       "    </tr>\n",
       "    <tr>\n",
       "      <th>2</th>\n",
       "      <td>Neymar Jr</td>\n",
       "      <td>27</td>\n",
       "      <td>05/02/1992</td>\n",
       "      <td>175</td>\n",
       "      <td>Paris Saint-Germain</td>\n",
       "      <td>92</td>\n",
       "    </tr>\n",
       "    <tr>\n",
       "      <th>3</th>\n",
       "      <td>J. Oblak</td>\n",
       "      <td>26</td>\n",
       "      <td>07/01/1993</td>\n",
       "      <td>188</td>\n",
       "      <td>Atlético Madrid</td>\n",
       "      <td>91</td>\n",
       "    </tr>\n",
       "    <tr>\n",
       "      <th>4</th>\n",
       "      <td>E. Hazard</td>\n",
       "      <td>28</td>\n",
       "      <td>07/01/1991</td>\n",
       "      <td>175</td>\n",
       "      <td>Real Madrid</td>\n",
       "      <td>91</td>\n",
       "    </tr>\n",
       "  </tbody>\n",
       "</table>\n",
       "</div>"
      ],
      "text/plain": [
       "              player  age         dob  height_cm                 club  rating\n",
       "0           L. Messi   32  24/06/1987        170         FC Barcelona      94\n",
       "1  Cristiano Ronaldo   34  05/02/1985        187             Juventus      93\n",
       "2          Neymar Jr   27  05/02/1992        175  Paris Saint-Germain      92\n",
       "3           J. Oblak   26  07/01/1993        188      Atlético Madrid      91\n",
       "4          E. Hazard   28  07/01/1991        175          Real Madrid      91"
      ]
     },
     "execution_count": 81,
     "metadata": {},
     "output_type": "execute_result"
    }
   ],
   "source": [
    "pd.read_csv(\"fifa20.csv\", nrows = 5)"
   ]
  },
  {
   "cell_type": "markdown",
   "metadata": {},
   "source": [
    "# sort_values(), sort_index() e il parametro \"inplace\""
   ]
  },
  {
   "cell_type": "code",
   "execution_count": 82,
   "metadata": {},
   "outputs": [
    {
     "data": {
      "text/plain": [
       "0                 L. Messi\n",
       "1        Cristiano Ronaldo\n",
       "2                Neymar Jr\n",
       "3                 J. Oblak\n",
       "4                E. Hazard\n",
       "               ...        \n",
       "18273           Shao Shuai\n",
       "18274         Xiao Mingjie\n",
       "18275            Zhang Wei\n",
       "18276         Wang Haijian\n",
       "18277           Pan Ximing\n",
       "Name: player, Length: 18278, dtype: object"
      ]
     },
     "execution_count": 82,
     "metadata": {},
     "output_type": "execute_result"
    }
   ],
   "source": [
    "import pandas as pd\n",
    "fifa = pd.read_csv(\"fifa20.csv\", usecols = [\"player\"], squeeze = True)\n",
    "fifa"
   ]
  },
  {
   "cell_type": "code",
   "execution_count": 83,
   "metadata": {},
   "outputs": [],
   "source": [
    "fifa.sort_values(axis=0,\n",
    "    ascending=False,\n",
    "    inplace=True,\n",
    "    kind='quicksort',\n",
    "    na_position='first',\n",
    "    ignore_index=True)"
   ]
  },
  {
   "cell_type": "code",
   "execution_count": 84,
   "metadata": {},
   "outputs": [
    {
     "data": {
      "text/plain": [
       "0           �. Vlădoiu\n",
       "1         �. Târnovanu\n",
       "2              �. Rusu\n",
       "3              �. Fara\n",
       "4           �. Blănaru\n",
       "             ...      \n",
       "18273          A. Abdu\n",
       "18274          A. Abdi\n",
       "18275     A. Abdennour\n",
       "18276    A. Abdellaoui\n",
       "18277      A. Abdallah\n",
       "Name: player, Length: 18278, dtype: object"
      ]
     },
     "execution_count": 84,
     "metadata": {},
     "output_type": "execute_result"
    }
   ],
   "source": [
    "fifa"
   ]
  },
  {
   "cell_type": "code",
   "execution_count": 85,
   "metadata": {},
   "outputs": [
    {
     "data": {
      "text/plain": [
       "0                 L. Messi\n",
       "1        Cristiano Ronaldo\n",
       "2                Neymar Jr\n",
       "3                 J. Oblak\n",
       "4                E. Hazard\n",
       "               ...        \n",
       "18273           Shao Shuai\n",
       "18274         Xiao Mingjie\n",
       "18275            Zhang Wei\n",
       "18276         Wang Haijian\n",
       "18277           Pan Ximing\n",
       "Name: player, Length: 18278, dtype: object"
      ]
     },
     "execution_count": 85,
     "metadata": {},
     "output_type": "execute_result"
    }
   ],
   "source": [
    "fifa = pd.read_csv(\"fifa20.csv\", usecols = [\"player\"], squeeze = True)\n",
    "fifa"
   ]
  },
  {
   "cell_type": "code",
   "execution_count": 86,
   "metadata": {},
   "outputs": [
    {
     "data": {
      "text/plain": [
       "18277           Pan Ximing\n",
       "18276         Wang Haijian\n",
       "18275            Zhang Wei\n",
       "18274         Xiao Mingjie\n",
       "18273           Shao Shuai\n",
       "               ...        \n",
       "4                E. Hazard\n",
       "3                 J. Oblak\n",
       "2                Neymar Jr\n",
       "1        Cristiano Ronaldo\n",
       "0                 L. Messi\n",
       "Name: player, Length: 18278, dtype: object"
      ]
     },
     "execution_count": 86,
     "metadata": {},
     "output_type": "execute_result"
    }
   ],
   "source": [
    "fifa.sort_index(ascending=False)"
   ]
  },
  {
   "cell_type": "markdown",
   "metadata": {},
   "source": [
    "# Value_counts()\n",
    "restituisce un'altra serie in cui gli indici sono i valori osservati e i valori le corrispondenti frequenze assolute (cioe' il numero totale di osservazioni), ordinate in senso decrescente"
   ]
  },
  {
   "cell_type": "code",
   "execution_count": 87,
   "metadata": {},
   "outputs": [
    {
     "data": {
      "text/plain": [
       "0                 L. Messi\n",
       "1        Cristiano Ronaldo\n",
       "2                Neymar Jr\n",
       "3                 J. Oblak\n",
       "4                E. Hazard\n",
       "               ...        \n",
       "18273           Shao Shuai\n",
       "18274         Xiao Mingjie\n",
       "18275            Zhang Wei\n",
       "18276         Wang Haijian\n",
       "18277           Pan Ximing\n",
       "Name: player, Length: 18278, dtype: object"
      ]
     },
     "execution_count": 87,
     "metadata": {},
     "output_type": "execute_result"
    }
   ],
   "source": [
    "import pandas as pd\n",
    "fifa = pd.read_csv(\"fifa20.csv\", usecols = [\"player\"], squeeze = True)\n",
    "fifa"
   ]
  },
  {
   "cell_type": "code",
   "execution_count": 88,
   "metadata": {},
   "outputs": [
    {
     "data": {
      "text/plain": [
       "M. Hornschuh       1\n",
       "E. Borelli         1\n",
       "P. Therkildsen     1\n",
       "Unai Simón         1\n",
       "S. Khelifi         1\n",
       "                  ..\n",
       "J. Hernández       7\n",
       "J. Williams        7\n",
       "J. García          8\n",
       "Paulinho           9\n",
       "J. Rodríguez      11\n",
       "Name: player, Length: 17354, dtype: int64"
      ]
     },
     "execution_count": 88,
     "metadata": {},
     "output_type": "execute_result"
    }
   ],
   "source": [
    "fifa.value_counts(normalize=False,\n",
    "    sort=True,\n",
    "    ascending=True,\n",
    "    bins=None,\n",
    "    dropna=True)"
   ]
  },
  {
   "cell_type": "code",
   "execution_count": 89,
   "metadata": {},
   "outputs": [
    {
     "data": {
      "text/plain": [
       "0        94\n",
       "1        93\n",
       "2        92\n",
       "3        91\n",
       "4        91\n",
       "         ..\n",
       "18273    48\n",
       "18274    48\n",
       "18275    48\n",
       "18276    48\n",
       "18277    48\n",
       "Name: rating, Length: 18278, dtype: int64"
      ]
     },
     "execution_count": 89,
     "metadata": {},
     "output_type": "execute_result"
    }
   ],
   "source": [
    "fifa2 = pd.read_csv(\"fifa20.csv\", usecols = [\"rating\"], squeeze = True)\n",
    "fifa2"
   ]
  },
  {
   "cell_type": "code",
   "execution_count": 90,
   "metadata": {},
   "outputs": [
    {
     "data": {
      "text/plain": [
       "(57.2, 66.4]      7602\n",
       "(66.4, 75.6]      7140\n",
       "(47.953, 57.2]    1921\n",
       "(75.6, 84.8]      1507\n",
       "(84.8, 94.0]       108\n",
       "Name: rating, dtype: int64"
      ]
     },
     "execution_count": 90,
     "metadata": {},
     "output_type": "execute_result"
    }
   ],
   "source": [
    "fifa2.value_counts(bins = 5)"
   ]
  },
  {
   "cell_type": "markdown",
   "metadata": {},
   "source": [
    "# Come accedere agli elementi di una Series\n",
    "- in base alla posizione\n",
    "- in base all'indice"
   ]
  },
  {
   "cell_type": "code",
   "execution_count": 91,
   "metadata": {},
   "outputs": [],
   "source": [
    "import pandas as pd\n",
    "player = pd.read_csv(\"fifa20.csv\", usecols = [\"player\"], squeeze = True)"
   ]
  },
  {
   "cell_type": "markdown",
   "metadata": {},
   "source": [
    "#### 1) estrazione valori in base alla posizione\n",
    "simile alle liste"
   ]
  },
  {
   "cell_type": "code",
   "execution_count": 92,
   "metadata": {},
   "outputs": [
    {
     "data": {
      "text/plain": [
       "0             L. Messi\n",
       "1    Cristiano Ronaldo\n",
       "2            Neymar Jr\n",
       "3             J. Oblak\n",
       "4            E. Hazard\n",
       "5         K. De Bruyne\n",
       "6        M. ter Stegen\n",
       "7          V. van Dijk\n",
       "8            L. Modrić\n",
       "9             M. Salah\n",
       "Name: player, dtype: object"
      ]
     },
     "execution_count": 92,
     "metadata": {},
     "output_type": "execute_result"
    }
   ],
   "source": [
    "player.head(10)"
   ]
  },
  {
   "cell_type": "code",
   "execution_count": 93,
   "metadata": {},
   "outputs": [
    {
     "data": {
      "text/plain": [
       "'Cristiano Ronaldo'"
      ]
     },
     "execution_count": 93,
     "metadata": {},
     "output_type": "execute_result"
    }
   ],
   "source": [
    "player[1] # indice singolo"
   ]
  },
  {
   "cell_type": "code",
   "execution_count": 94,
   "metadata": {},
   "outputs": [
    {
     "data": {
      "text/plain": [
       "0        L. Messi\n",
       "2       Neymar Jr\n",
       "5    K. De Bruyne\n",
       "Name: player, dtype: object"
      ]
     },
     "execution_count": 94,
     "metadata": {},
     "output_type": "execute_result"
    }
   ],
   "source": [
    "player[[0,2,5]] # lista di indici"
   ]
  },
  {
   "cell_type": "code",
   "execution_count": 95,
   "metadata": {},
   "outputs": [
    {
     "data": {
      "text/plain": [
       "2       Neymar Jr\n",
       "3        J. Oblak\n",
       "4       E. Hazard\n",
       "5    K. De Bruyne\n",
       "Name: player, dtype: object"
      ]
     },
     "execution_count": 95,
     "metadata": {},
     "output_type": "execute_result"
    }
   ],
   "source": [
    "player[2:6] # slicing1"
   ]
  },
  {
   "cell_type": "code",
   "execution_count": 96,
   "metadata": {},
   "outputs": [
    {
     "data": {
      "text/plain": [
       "0             L. Messi\n",
       "1    Cristiano Ronaldo\n",
       "2            Neymar Jr\n",
       "3             J. Oblak\n",
       "4            E. Hazard\n",
       "Name: player, dtype: object"
      ]
     },
     "execution_count": 96,
     "metadata": {},
     "output_type": "execute_result"
    }
   ],
   "source": [
    "player[:5] # slicing2: tutti i valori dal primo fino al quinto escluso"
   ]
  },
  {
   "cell_type": "code",
   "execution_count": 97,
   "metadata": {},
   "outputs": [
    {
     "data": {
      "text/plain": [
       "3"
      ]
     },
     "execution_count": 97,
     "metadata": {},
     "output_type": "execute_result"
    }
   ],
   "source": [
    "lista = [0,1,2,3]\n",
    "lista[-1]"
   ]
  },
  {
   "cell_type": "code",
   "execution_count": 98,
   "metadata": {},
   "outputs": [],
   "source": [
    "# player[-1] # attenzione!\n"
   ]
  },
  {
   "cell_type": "code",
   "execution_count": 99,
   "metadata": {},
   "outputs": [
    {
     "data": {
      "text/plain": [
       "RangeIndex(start=0, stop=18278, step=1)"
      ]
     },
     "execution_count": 99,
     "metadata": {},
     "output_type": "execute_result"
    }
   ],
   "source": [
    "player.index"
   ]
  },
  {
   "cell_type": "code",
   "execution_count": 100,
   "metadata": {},
   "outputs": [
    {
     "data": {
      "text/plain": [
       "18273      Shao Shuai\n",
       "18274    Xiao Mingjie\n",
       "18275       Zhang Wei\n",
       "18276    Wang Haijian\n",
       "18277      Pan Ximing\n",
       "Name: player, dtype: object"
      ]
     },
     "execution_count": 100,
     "metadata": {},
     "output_type": "execute_result"
    }
   ],
   "source": [
    "player[-5:] # con lo \"slicing\" non ho problemi"
   ]
  },
  {
   "cell_type": "markdown",
   "metadata": {},
   "source": [
    "## Estrazione valori in base all'indice"
   ]
  },
  {
   "cell_type": "code",
   "execution_count": 101,
   "metadata": {},
   "outputs": [],
   "source": [
    "import pandas as pd\n",
    "player = pd.read_csv(\"fifa20.csv\", usecols = [\"player\", \"rating\"], index_col = \"player\", squeeze = True)"
   ]
  },
  {
   "cell_type": "code",
   "execution_count": 102,
   "metadata": {},
   "outputs": [
    {
     "data": {
      "text/plain": [
       "player\n",
       "L. Messi             94\n",
       "Cristiano Ronaldo    93\n",
       "Neymar Jr            92\n",
       "J. Oblak             91\n",
       "E. Hazard            91\n",
       "K. De Bruyne         91\n",
       "M. ter Stegen        90\n",
       "V. van Dijk          90\n",
       "L. Modrić            90\n",
       "M. Salah             90\n",
       "Name: rating, dtype: int64"
      ]
     },
     "execution_count": 102,
     "metadata": {},
     "output_type": "execute_result"
    }
   ],
   "source": [
    "player.head(10)"
   ]
  },
  {
   "cell_type": "code",
   "execution_count": 103,
   "metadata": {},
   "outputs": [
    {
     "data": {
      "text/plain": [
       "94"
      ]
     },
     "execution_count": 103,
     "metadata": {},
     "output_type": "execute_result"
    }
   ],
   "source": [
    "player[\"L. Messi\"]"
   ]
  },
  {
   "cell_type": "code",
   "execution_count": 104,
   "metadata": {},
   "outputs": [
    {
     "data": {
      "text/plain": [
       "94"
      ]
     },
     "execution_count": 104,
     "metadata": {},
     "output_type": "execute_result"
    }
   ],
   "source": [
    "player[0]"
   ]
  },
  {
   "cell_type": "markdown",
   "metadata": {
    "hide_input": false
   },
   "source": [
    "## vai alla sezione esercizi!"
   ]
  }
 ],
 "metadata": {
  "kernelspec": {
   "display_name": "Python 3",
   "language": "python",
   "name": "python3"
  }
 },
 "nbformat": 4,
 "nbformat_minor": 2
}
